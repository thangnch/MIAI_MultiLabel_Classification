{
 "cells": [
  {
   "cell_type": "code",
   "execution_count": 1,
   "id": "97c7f7cf",
   "metadata": {},
   "outputs": [
    {
     "name": "stdout",
     "output_type": "stream",
     "text": [
      "Sun Apr 17 20:58:09 2022       \r\n",
      "+-----------------------------------------------------------------------------+\r\n",
      "| NVIDIA-SMI 418.87.00    Driver Version: 418.87.00    CUDA Version: 10.1     |\r\n",
      "|-------------------------------+----------------------+----------------------+\r\n",
      "| GPU  Name        Persistence-M| Bus-Id        Disp.A | Volatile Uncorr. ECC |\r\n",
      "| Fan  Temp  Perf  Pwr:Usage/Cap|         Memory-Usage | GPU-Util  Compute M. |\r\n",
      "|===============================+======================+======================|\r\n",
      "|   0  Tesla P100-PCIE...  Off  | 00000000:3B:00.0 Off |                    0 |\r\n",
      "| N/A   30C    P0    31W / 250W |   8717MiB / 16280MiB |      0%      Default |\r\n",
      "+-------------------------------+----------------------+----------------------+\r\n",
      "|   1  Tesla P100-PCIE...  Off  | 00000000:D8:00.0 Off |                    0 |\r\n",
      "| N/A   31C    P0    31W / 250W |    377MiB / 16280MiB |      0%      Default |\r\n",
      "+-------------------------------+----------------------+----------------------+\r\n",
      "                                                                               \r\n",
      "+-----------------------------------------------------------------------------+\r\n",
      "| Processes:                                                       GPU Memory |\r\n",
      "|  GPU       PID   Type   Process name                             Usage      |\r\n",
      "|=============================================================================|\r\n",
      "|    0    237966      C   /home/anhpv/.conda/envs/mtcnn/bin/python    8707MiB |\r\n",
      "|    1    237966      C   /home/anhpv/.conda/envs/mtcnn/bin/python     367MiB |\r\n",
      "+-----------------------------------------------------------------------------+\r\n"
     ]
    }
   ],
   "source": [
    "!nvidia-smi"
   ]
  },
  {
   "cell_type": "code",
   "execution_count": 2,
   "id": "01e36283",
   "metadata": {},
   "outputs": [
    {
     "name": "stdout",
     "output_type": "stream",
     "text": [
      "Requirement already satisfied: scikit-multilearn in /home/anhpv/.conda/envs/mtcnn/lib/python3.8/site-packages (0.2.0)\r\n"
     ]
    }
   ],
   "source": [
    "!pip install scikit-multilearn"
   ]
  },
  {
   "cell_type": "code",
   "execution_count": 3,
   "id": "e1c2bc3c",
   "metadata": {},
   "outputs": [],
   "source": [
    "import numpy as np"
   ]
  },
  {
   "cell_type": "code",
   "execution_count": 142,
   "id": "6b7accd6",
   "metadata": {},
   "outputs": [
    {
     "data": {
      "text/plain": [
       "(array([[3., 4., 3., ..., 2., 4., 0.],\n",
       "        [1., 5., 4., ..., 0., 1., 0.],\n",
       "        [6., 2., 1., ..., 0., 2., 1.],\n",
       "        ...,\n",
       "        [3., 6., 3., ..., 3., 2., 3.],\n",
       "        [2., 1., 1., ..., 0., 5., 0.],\n",
       "        [1., 2., 2., ..., 1., 3., 3.]]),\n",
       " array([[0, 0, 1, 0, 1],\n",
       "        [1, 0, 0, 1, 0],\n",
       "        [0, 0, 0, 1, 0],\n",
       "        [0, 1, 0, 0, 1],\n",
       "        [1, 1, 0, 1, 0],\n",
       "        [1, 1, 1, 1, 1],\n",
       "        [1, 1, 0, 1, 1],\n",
       "        [0, 1, 0, 1, 0],\n",
       "        [0, 1, 0, 1, 0],\n",
       "        [0, 1, 0, 1, 0],\n",
       "        [1, 0, 0, 0, 0],\n",
       "        [1, 1, 0, 1, 0],\n",
       "        [1, 1, 0, 1, 1],\n",
       "        [1, 1, 0, 0, 0],\n",
       "        [1, 1, 0, 0, 0],\n",
       "        [1, 0, 0, 0, 1],\n",
       "        [0, 0, 0, 1, 0],\n",
       "        [0, 1, 0, 0, 0],\n",
       "        [1, 0, 0, 1, 1],\n",
       "        [1, 0, 0, 1, 1],\n",
       "        [0, 1, 0, 1, 0],\n",
       "        [0, 1, 1, 1, 0],\n",
       "        [1, 0, 0, 0, 0],\n",
       "        [0, 0, 0, 1, 0],\n",
       "        [0, 0, 0, 0, 1],\n",
       "        [1, 1, 0, 1, 1],\n",
       "        [0, 1, 0, 0, 0],\n",
       "        [1, 0, 0, 1, 0],\n",
       "        [1, 0, 0, 1, 0],\n",
       "        [1, 1, 0, 1, 0],\n",
       "        [1, 0, 1, 1, 0],\n",
       "        [0, 1, 0, 0, 0],\n",
       "        [0, 1, 0, 1, 0],\n",
       "        [1, 0, 0, 1, 0],\n",
       "        [1, 0, 0, 0, 0],\n",
       "        [1, 0, 0, 1, 0],\n",
       "        [0, 1, 0, 0, 0],\n",
       "        [0, 0, 0, 1, 0],\n",
       "        [0, 0, 1, 1, 0],\n",
       "        [0, 0, 0, 0, 1],\n",
       "        [1, 0, 0, 0, 0],\n",
       "        [0, 0, 0, 1, 0],\n",
       "        [1, 1, 0, 1, 0],\n",
       "        [1, 1, 1, 1, 1],\n",
       "        [0, 0, 1, 1, 0],\n",
       "        [0, 0, 0, 1, 0],\n",
       "        [1, 0, 0, 0, 0],\n",
       "        [1, 0, 0, 0, 1],\n",
       "        [1, 0, 0, 0, 0],\n",
       "        [0, 1, 0, 1, 0],\n",
       "        [0, 0, 0, 1, 0],\n",
       "        [0, 1, 0, 1, 1],\n",
       "        [1, 0, 1, 1, 0],\n",
       "        [1, 1, 0, 0, 0],\n",
       "        [1, 1, 0, 1, 0],\n",
       "        [0, 0, 1, 1, 0],\n",
       "        [1, 1, 1, 1, 0],\n",
       "        [1, 0, 0, 0, 0],\n",
       "        [1, 1, 1, 1, 1],\n",
       "        [1, 0, 0, 0, 0],\n",
       "        [1, 0, 0, 1, 0],\n",
       "        [1, 0, 0, 1, 1],\n",
       "        [0, 0, 1, 1, 0],\n",
       "        [1, 1, 0, 1, 1],\n",
       "        [0, 1, 0, 1, 1],\n",
       "        [0, 1, 0, 0, 1],\n",
       "        [1, 0, 0, 0, 1],\n",
       "        [1, 1, 1, 1, 1],\n",
       "        [1, 0, 0, 0, 1],\n",
       "        [1, 1, 0, 1, 1],\n",
       "        [0, 1, 0, 0, 1],\n",
       "        [0, 0, 0, 1, 0],\n",
       "        [1, 1, 0, 1, 1],\n",
       "        [1, 0, 0, 0, 0],\n",
       "        [1, 0, 0, 1, 1],\n",
       "        [1, 0, 0, 1, 0],\n",
       "        [1, 1, 1, 0, 0],\n",
       "        [1, 0, 1, 1, 1],\n",
       "        [0, 0, 0, 0, 1],\n",
       "        [1, 1, 0, 1, 1],\n",
       "        [1, 1, 0, 1, 1],\n",
       "        [1, 0, 1, 1, 0],\n",
       "        [0, 0, 0, 1, 1],\n",
       "        [1, 0, 1, 0, 0],\n",
       "        [1, 1, 0, 0, 0],\n",
       "        [1, 0, 0, 0, 0],\n",
       "        [1, 1, 0, 1, 1],\n",
       "        [0, 0, 0, 1, 0],\n",
       "        [1, 1, 1, 1, 0],\n",
       "        [0, 1, 0, 1, 0],\n",
       "        [1, 1, 1, 1, 1],\n",
       "        [1, 1, 1, 1, 0],\n",
       "        [0, 0, 0, 0, 1],\n",
       "        [1, 0, 1, 1, 0],\n",
       "        [0, 0, 0, 0, 1],\n",
       "        [1, 0, 1, 1, 1],\n",
       "        [1, 0, 0, 0, 0],\n",
       "        [1, 1, 0, 1, 0],\n",
       "        [0, 1, 0, 0, 0],\n",
       "        [1, 0, 0, 1, 0]]))"
      ]
     },
     "execution_count": 142,
     "metadata": {},
     "output_type": "execute_result"
    }
   ],
   "source": [
    "# Tao du lieu\n",
    "from sklearn.datasets import make_multilabel_classification\n",
    "\n",
    "X, y = make_multilabel_classification(n_samples = 100, n_features = 20, n_classes = 5, sparse=False, n_labels=2,\n",
    "                                     return_indicator=\"dense\", allow_unlabeled= False)\n",
    "\n",
    "X, y"
   ]
  },
  {
   "cell_type": "code",
   "execution_count": 143,
   "id": "565c4752",
   "metadata": {},
   "outputs": [],
   "source": [
    "from sklearn.model_selection import train_test_split\n",
    "\n",
    "X_train, X_test, y_train, y_test = train_test_split(X, y, random_state=42, test_size=0.2)"
   ]
  },
  {
   "cell_type": "code",
   "execution_count": 120,
   "id": "aa05bc5d",
   "metadata": {},
   "outputs": [],
   "source": [
    "from skmultilearn.problem_transform import BinaryRelevance\n",
    "from sklearn.naive_bayes import GaussianNB\n",
    "\n",
    "# Khoi tao\n",
    "br_clf = BinaryRelevance(GaussianNB())\n",
    "\n",
    "# Train \n",
    "br_clf.fit(X_train, y_train)\n",
    "\n",
    "# Du doan\n",
    "y_pred = br_clf.predict(X_test)"
   ]
  },
  {
   "cell_type": "code",
   "execution_count": 124,
   "id": "b28b8712",
   "metadata": {},
   "outputs": [],
   "source": [
    "def hamming_score(y_true, y_pred, normalize=True, sample_weight=None):\n",
    "    '''\n",
    "    Compute the Hamming score (a.k.a. label-based accuracy) for the multi-label case\n",
    "    http://stackoverflow.com/q/32239577/395857\n",
    "    '''\n",
    "    acc_list = []\n",
    "    for i in range(y_true.shape[0]):\n",
    "        set_true = set( np.where(y_true[i])[0] )\n",
    "        set_pred = set( np.where(y_pred[i])[0] )\n",
    "        #print('\\nset_true: {0}'.format(set_true))\n",
    "        #print('set_pred: {0}'.format(set_pred))\n",
    "        tmp_a = None\n",
    "        if len(set_true) == 0 and len(set_pred) == 0:\n",
    "            tmp_a = 1\n",
    "        else:\n",
    "            tmp_a = len(set_true.intersection(set_pred))/\\\n",
    "                    float( len(set_true.union(set_pred)) )\n",
    "        #print('tmp_a: {0}'.format(tmp_a))\n",
    "        acc_list.append(tmp_a)\n",
    "    return np.mean(acc_list)"
   ]
  },
  {
   "cell_type": "code",
   "execution_count": 126,
   "id": "8147a654",
   "metadata": {},
   "outputs": [
    {
     "name": "stdout",
     "output_type": "stream",
     "text": [
      "0.0\n",
      "0.5833333333333333\n"
     ]
    }
   ],
   "source": [
    "from sklearn.metrics import accuracy_score\n",
    "print(accuracy_score(y_pred.todense(), y_test))\n",
    "print(hamming_score(np.array(y_pred.todense()), y_test))"
   ]
  },
  {
   "cell_type": "code",
   "execution_count": 132,
   "id": "745d7776",
   "metadata": {},
   "outputs": [
    {
     "data": {
      "text/plain": [
       "(matrix([[0, 0, 0, 0, 1],\n",
       "         [0, 0, 0, 0, 1],\n",
       "         [0, 0, 1, 0, 1],\n",
       "         [0, 0, 1, 0, 1]]),\n",
       " array([[0, 0, 1, 1, 0],\n",
       "        [1, 0, 1, 1, 1],\n",
       "        [1, 0, 1, 1, 1],\n",
       "        [0, 0, 1, 1, 1]]))"
      ]
     },
     "execution_count": 132,
     "metadata": {},
     "output_type": "execute_result"
    }
   ],
   "source": [
    "y_pred.todense(), y_test"
   ]
  },
  {
   "cell_type": "code",
   "execution_count": 127,
   "id": "eaa23ee9",
   "metadata": {},
   "outputs": [],
   "source": [
    "from skmultilearn.problem_transform import ClassifierChain\n",
    "from sklearn.naive_bayes import GaussianNB\n",
    "\n",
    "# Khoi tao\n",
    "cc_clf = ClassifierChain(GaussianNB())\n",
    "\n",
    "# Train \n",
    "cc_clf.fit(X_train, y_train)\n",
    "\n",
    "# Du doan\n",
    "y_pred = cc_clf.predict(X_test)"
   ]
  },
  {
   "cell_type": "code",
   "execution_count": 128,
   "id": "d01ad02f",
   "metadata": {},
   "outputs": [
    {
     "name": "stdout",
     "output_type": "stream",
     "text": [
      "0.0\n",
      "0.5208333333333333\n"
     ]
    }
   ],
   "source": [
    "from sklearn.metrics import accuracy_score\n",
    "print(accuracy_score(y_pred.todense(), y_test))\n",
    "print(hamming_score(np.array(y_pred.todense()), y_test))"
   ]
  },
  {
   "cell_type": "code",
   "execution_count": 130,
   "id": "5e703b3e",
   "metadata": {},
   "outputs": [],
   "source": [
    "from skmultilearn.problem_transform import LabelPowerset\n",
    "from sklearn.naive_bayes import GaussianNB\n",
    "\n",
    "# Khoi tao\n",
    "lp_clf = LabelPowerset(GaussianNB())\n",
    "\n",
    "# Train \n",
    "lp_clf.fit(X_train, y_train)\n",
    "\n",
    "# Du doan\n",
    "y_pred = lp_clf.predict(X_test)"
   ]
  },
  {
   "cell_type": "code",
   "execution_count": 131,
   "id": "9e5e29ac",
   "metadata": {},
   "outputs": [
    {
     "name": "stdout",
     "output_type": "stream",
     "text": [
      "0.0\n",
      "0.35416666666666663\n"
     ]
    }
   ],
   "source": [
    "from sklearn.metrics import accuracy_score\n",
    "print(accuracy_score(y_pred.todense(), y_test))\n",
    "print(hamming_score(np.array(y_pred.todense()), y_test))"
   ]
  },
  {
   "cell_type": "code",
   "execution_count": 136,
   "id": "dbb66129",
   "metadata": {},
   "outputs": [
    {
     "name": "stderr",
     "output_type": "stream",
     "text": [
      "/home/anhpv/.conda/envs/mtcnn/lib/python3.8/site-packages/sklearn/utils/validation.py:70: FutureWarning: Pass n_neighbors=5 as keyword args. From version 1.0 (renaming of 0.25) passing these as positional arguments will result in an error\n",
      "  warnings.warn(f\"Pass {args_msg} as keyword args. From version \"\n"
     ]
    }
   ],
   "source": [
    "from skmultilearn.adapt import MLkNN\n",
    "\n",
    "# Khoi tao\n",
    "mlknn_clf = MLkNN(k=5)\n",
    "\n",
    "# Fit\n",
    "mlknn_clf.fit(X_train, y_train)\n",
    "\n",
    "# Du doan\n",
    "y_pred = mlknn_clf.predict(X_test)"
   ]
  },
  {
   "cell_type": "code",
   "execution_count": 137,
   "id": "3f337dec",
   "metadata": {},
   "outputs": [
    {
     "name": "stdout",
     "output_type": "stream",
     "text": [
      "0.0\n",
      "0.2708333333333333\n"
     ]
    }
   ],
   "source": [
    "from sklearn.metrics import accuracy_score\n",
    "print(accuracy_score(y_pred.todense(), y_test))\n",
    "print(hamming_score(np.array(y_pred.todense()), y_test))"
   ]
  },
  {
   "cell_type": "code",
   "execution_count": 138,
   "id": "6dd7266e",
   "metadata": {},
   "outputs": [],
   "source": [
    "from numpy import mean\n",
    "from numpy import std\n",
    "from sklearn.datasets import make_multilabel_classification\n",
    "from sklearn.model_selection import RepeatedKFold\n",
    "from tensorflow.keras.models import Sequential\n",
    "from tensorflow.keras.layers import Dense\n",
    "from sklearn.metrics import accuracy_score\n",
    "from sklearn.model_selection import train_test_split\n",
    "import numpy as np\n",
    "import tensorflow"
   ]
  },
  {
   "cell_type": "code",
   "execution_count": 140,
   "id": "959aab16",
   "metadata": {},
   "outputs": [],
   "source": [
    "model = Sequential()\n",
    "model.add(Dense(32, input_dim = X.shape[1], activation=\"relu\"))\n",
    "model.add(Dense(y.shape[1], activation='sigmoid'))\n",
    "model.compile(loss='binary_crossentropy', optimizer = \"adam\", metrics=['accuracy', 'binary_accuracy'])"
   ]
  },
  {
   "cell_type": "code",
   "execution_count": 146,
   "id": "2dff73db",
   "metadata": {},
   "outputs": [
    {
     "name": "stdout",
     "output_type": "stream",
     "text": [
      "Epoch 1/10\n",
      "5/5 [==============================] - 0s 18ms/step - loss: 0.7558 - accuracy: 0.1250 - binary_accuracy: 0.5675 - val_loss: 0.8747 - val_accuracy: 0.1000 - val_binary_accuracy: 0.4900\n",
      "Epoch 2/10\n",
      "5/5 [==============================] - 0s 12ms/step - loss: 0.7304 - accuracy: 0.1750 - binary_accuracy: 0.5775 - val_loss: 0.8584 - val_accuracy: 0.1500 - val_binary_accuracy: 0.5400\n",
      "Epoch 3/10\n",
      "5/5 [==============================] - 0s 11ms/step - loss: 0.7100 - accuracy: 0.2375 - binary_accuracy: 0.5975 - val_loss: 0.8452 - val_accuracy: 0.1500 - val_binary_accuracy: 0.5700\n",
      "Epoch 4/10\n",
      "5/5 [==============================] - 0s 9ms/step - loss: 0.6900 - accuracy: 0.2750 - binary_accuracy: 0.6175 - val_loss: 0.8353 - val_accuracy: 0.1500 - val_binary_accuracy: 0.5800\n",
      "Epoch 5/10\n",
      "5/5 [==============================] - 0s 9ms/step - loss: 0.6730 - accuracy: 0.3000 - binary_accuracy: 0.6275 - val_loss: 0.8270 - val_accuracy: 0.2000 - val_binary_accuracy: 0.5900\n",
      "Epoch 6/10\n",
      "5/5 [==============================] - 0s 9ms/step - loss: 0.6578 - accuracy: 0.3250 - binary_accuracy: 0.6350 - val_loss: 0.8185 - val_accuracy: 0.3000 - val_binary_accuracy: 0.6000\n",
      "Epoch 7/10\n",
      "5/5 [==============================] - 0s 9ms/step - loss: 0.6444 - accuracy: 0.3125 - binary_accuracy: 0.6425 - val_loss: 0.8122 - val_accuracy: 0.3000 - val_binary_accuracy: 0.5900\n",
      "Epoch 8/10\n",
      "5/5 [==============================] - 0s 9ms/step - loss: 0.6326 - accuracy: 0.3375 - binary_accuracy: 0.6450 - val_loss: 0.8068 - val_accuracy: 0.3000 - val_binary_accuracy: 0.5800\n",
      "Epoch 9/10\n",
      "5/5 [==============================] - 0s 10ms/step - loss: 0.6219 - accuracy: 0.3500 - binary_accuracy: 0.6525 - val_loss: 0.7994 - val_accuracy: 0.3500 - val_binary_accuracy: 0.5800\n",
      "Epoch 10/10\n",
      "5/5 [==============================] - 0s 9ms/step - loss: 0.6117 - accuracy: 0.3625 - binary_accuracy: 0.6575 - val_loss: 0.7935 - val_accuracy: 0.3500 - val_binary_accuracy: 0.5700\n"
     ]
    },
    {
     "data": {
      "text/plain": [
       "<tensorflow.python.keras.callbacks.History at 0x7f4eb00bfdf0>"
      ]
     },
     "execution_count": 146,
     "metadata": {},
     "output_type": "execute_result"
    }
   ],
   "source": [
    "model.fit(X_train, y_train, validation_data=(X_test, y_test), epochs=10, batch_size=16)"
   ]
  },
  {
   "cell_type": "code",
   "execution_count": 145,
   "id": "de074381",
   "metadata": {},
   "outputs": [
    {
     "data": {
      "text/plain": [
       "(80, 20)"
      ]
     },
     "execution_count": 145,
     "metadata": {},
     "output_type": "execute_result"
    }
   ],
   "source": [
    "X_train.shape"
   ]
  },
  {
   "cell_type": "code",
   "execution_count": null,
   "id": "177cde90",
   "metadata": {},
   "outputs": [],
   "source": []
  }
 ],
 "metadata": {
  "kernelspec": {
   "display_name": "Python 3",
   "language": "python",
   "name": "python3"
  },
  "language_info": {
   "codemirror_mode": {
    "name": "ipython",
    "version": 3
   },
   "file_extension": ".py",
   "mimetype": "text/x-python",
   "name": "python",
   "nbconvert_exporter": "python",
   "pygments_lexer": "ipython3",
   "version": "3.8.10"
  }
 },
 "nbformat": 4,
 "nbformat_minor": 5
}
